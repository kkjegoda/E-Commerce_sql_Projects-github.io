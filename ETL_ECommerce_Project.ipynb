{
 "cells": [
  {
   "cell_type": "markdown",
   "id": "8c6a0365",
   "metadata": {},
   "source": [
    "# Phase 1: Extract"
   ]
  },
  {
   "cell_type": "code",
   "execution_count": null,
   "id": "d64de6ed",
   "metadata": {},
   "outputs": [],
   "source": [
    "import pandas as pd\n",
    "import MySQLdb\n",
    "\n",
    "conn = MySQLdb.Connect(host=\"localhost\", port=\"your mysql db port number\", user=\"your user\", passwd=\"your database password\", db=\"database name\")\n",
    "cursor = conn.cursor()\n",
    "sql = \"SELECT * FROM ecommerce_db.products\"\n",
    "cursor.execute(sql)\n",
    "data = cursor.fetchall()\n",
    "\n",
    "\n",
    "\n",
    "# Extract data from CSV files\n",
    "products_df = pd.read_csv('Data/products_data.csv')\n",
    "orders_df = pd.read_csv('Data/orders_data.csv')\n",
    "users_df = pd.read_csv('Data/users_data.csv')\n",
    "\n",
    "# Extract data from Excel files\n",
    "payments_df = pd.read_excel('Data/payments_data.xlsx', engine='openpyxl')\n",
    "reviews_df = pd.read_excel('Data/reviews_data.xlsx', engine='openpyxl')\n"
   ]
  },
  {
   "cell_type": "markdown",
   "id": "58ef2c78",
   "metadata": {},
   "source": [
    "# Phase 2: Transform"
   ]
  },
  {
   "cell_type": "code",
   "execution_count": 2,
   "id": "9cfdcffa",
   "metadata": {},
   "outputs": [],
   "source": [
    "# Fill missing values in each dataframe as needed\n",
    "products_df = products_df.fillna({\n",
    "    'Description': 'No description available',\n",
    "    'Category': 'Miscellaneous'\n",
    "})\n",
    "\n",
    "orders_df = orders_df.fillna({\n",
    "    'TotalAmount': 0.0\n",
    "})\n",
    "\n",
    "payments_df = payments_df.fillna({\n",
    "    'PaymentMethod': 'Unknown',\n",
    "    'Amount': 0.0,\n",
    "    'PaymentDate': pd.Timestamp('1970-01-01')\n",
    "})\n",
    "\n",
    "reviews_df = reviews_df.fillna({\n",
    "    'ReviewText': 'no review'\n",
    "})\n",
    "\n",
    "# Handling invalid emails in the Users DataFrame\n",
    "def generate_unique_email(index):\n",
    "    return f'unknown_{index}@example.com'\n",
    "\n",
    "users_df['Email'] = users_df.apply(lambda row: row['Email'] if '@' in row['Email'] and '.' in row['Email'] else generate_unique_email(row.name), axis=1)\n",
    "\n",
    "# Ensure all prices are numeric\n",
    "products_df['Price'] = pd.to_numeric(products_df['Price'], errors='coerce').fillna(0.0).round(2)\n",
    "\n",
    "# Ensure all stock quantities are numeric\n",
    "products_df['StockQuantity'] = pd.to_numeric(products_df['StockQuantity'], errors='coerce').fillna(0).astype(int)\n",
    "\n",
    "# Standardize and convert date formats to string\n",
    "orders_df['OrderDate'] = pd.to_datetime(orders_df['OrderDate'], errors='coerce', format='%Y-%m-%d').fillna(pd.Timestamp('1970-01-01'))\n",
    "orders_df['OrderDate'] = orders_df['OrderDate'].dt.strftime('%Y-%m-%d')\n",
    "\n",
    "payments_df['PaymentDate'] = pd.to_datetime(payments_df['PaymentDate'], errors='coerce', format='%Y-%m-%d').fillna(pd.Timestamp('1970-01-01'))\n",
    "payments_df['PaymentDate'] = payments_df['PaymentDate'].dt.strftime('%Y-%m-%d')\n"
   ]
  },
  {
   "cell_type": "markdown",
   "id": "14416916",
   "metadata": {},
   "source": [
    "# Phase 3: Load"
   ]
  },
  {
   "cell_type": "code",
   "execution_count": 3,
   "id": "315a92c1",
   "metadata": {},
   "outputs": [],
   "source": [
    "# Delete all records from Payments, Reviews, Orders, Users, and Products tables\n",
    "tables_to_clear = ['Payments', 'Reviews', 'Orders', 'Users', 'Products']\n",
    "for table in tables_to_clear:\n",
    "    cursor.execute(f\"DELETE FROM {table}\")\n",
    "conn.commit()\n",
    "\n",
    "# Insert data into Products table\n",
    "product_id_mapping = {}\n",
    "for index, row in products_df.iterrows():\n",
    "    cursor.execute(\"\"\"\n",
    "        INSERT INTO Products (ProductName, Description, Price, StockQuantity, Category)\n",
    "        VALUES (%s, %s, %s, %s, %s)\n",
    "    \"\"\", (row['ProductName'], row['Description'], row['Price'], row['StockQuantity'], row['Category']))\n",
    "    product_id_mapping[index] = cursor.lastrowid\n",
    "conn.commit()\n",
    "\n",
    "# Insert Users Data and Map Old UserIDs to New UserIDs\n",
    "user_id_mapping = {}\n",
    "for index, row in users_df.iterrows():\n",
    "    cursor.execute(\"\"\"\n",
    "        INSERT INTO Users (UserName, Email, Address, Password)\n",
    "        VALUES (%s, %s, %s, %s)\n",
    "    \"\"\", (row['UserName'], row['Email'], row['Address'], row['Password']))\n",
    "    # Mapping old UserID index to the new UserID\n",
    "    user_id_mapping[index + 1] = cursor.lastrowid\n",
    "conn.commit()\n",
    "\n",
    "\n",
    "# Update Orders Data with New UserIDs\n",
    "orders_df['UserID'] = orders_df['UserID'].map(user_id_mapping)\n",
    "\n",
    "\n",
    "# Insert data into Orders table\n",
    "order_id_mapping = {}\n",
    "for index, row in orders_df.iterrows():\n",
    "    cursor.execute(\"\"\"\n",
    "        INSERT INTO Orders (UserID, OrderDate, TotalAmount)\n",
    "        VALUES (%s, %s, %s)\n",
    "    \"\"\", (row['UserID'], row['OrderDate'], row['TotalAmount']))\n",
    "    order_id_mapping[index] = cursor.lastrowid\n",
    "conn.commit()\n",
    "\n",
    "\n",
    "# Map the new OrderIDs to payments_df\n",
    "payments_df['OrderID'] = payments_df.index.map(order_id_mapping)\n",
    "\n",
    "\n",
    "\n",
    "# Insert data into Payments table\n",
    "for index, row in payments_df.iterrows():\n",
    "    cursor.execute(\"\"\"\n",
    "        INSERT INTO Payments (OrderID, PaymentMethod, PaymentDate, Amount)\n",
    "        VALUES (%s, %s, %s, %s)\n",
    "    \"\"\", (row['OrderID'], row['PaymentMethod'], row['PaymentDate'], row['Amount']))\n",
    "conn.commit()\n",
    "\n",
    "# Map the new UserIDs and ProductIDs to reviews_df\n",
    "reviews_df['UserID'] = reviews_df['UserID'].map(user_id_mapping)\n",
    "reviews_df['ProductID'] = reviews_df.index.map(product_id_mapping)\n",
    "\n",
    "# Filter out rows with invalid ratings\n",
    "reviews_df['Rating'] = pd.to_numeric(reviews_df['Rating'], errors='coerce')\n",
    "reviews_df = reviews_df.dropna(subset=['Rating', 'ProductID', 'UserID'])\n",
    "\n",
    "\n",
    "# Insert data into Reviews table\n",
    "for index, row in reviews_df.iterrows():\n",
    "    cursor.execute(\"\"\"\n",
    "        INSERT INTO Reviews (ProductID, UserID, Rating, ReviewText)\n",
    "        VALUES (%s, %s, %s, %s)\n",
    "    \"\"\", (row['ProductID'], row['UserID'], row['Rating'], row['ReviewText']))\n",
    "conn.commit()"
   ]
  },
  {
   "cell_type": "markdown",
   "id": "8b33fd94",
   "metadata": {},
   "source": [
    "## Final Verification"
   ]
  },
  {
   "cell_type": "code",
   "execution_count": 7,
   "id": "72a368bd",
   "metadata": {},
   "outputs": [
    {
     "name": "stdout",
     "output_type": "stream",
     "text": [
      "Products verification passed: 60 records.\n",
      "Orders verification passed: 60 records.\n",
      "Users verification passed: 10 records.\n",
      "Payments verification passed: 60 records.\n",
      "Reviews verification passed: 51 records.\n"
     ]
    }
   ],
   "source": [
    "def verification_of_tablerecord(table_name,expected_outcome):\n",
    "    cursor.execute(f'SELECT COUNT(*) FROM {table_name}')\n",
    "    data_length=cursor.fetchone()[0]\n",
    "    if(data_length==expected_outcome):\n",
    "        print(f\"{table_name} verification passed: {data_length} records.\")\n",
    "    else:\n",
    "        print(f\"{table_name} verification failed: Expected {expected_count}, but found {data_length}.\")\n",
    "\n",
    "# Verifing Products Table Records\n",
    "verification_of_tablerecord(\"Products\",len(products_df))\n",
    "\n",
    "# Verifing Orders Table Records\n",
    "verification_of_tablerecord(\"Orders\",len(orders_df))\n",
    "\n",
    "# Verifing Users Table Records\n",
    "verification_of_tablerecord(\"Users\",len(users_df))\n",
    "\n",
    "# Verifing Payments Table Records\n",
    "verification_of_tablerecord(\"Payments\",len(payments_df))\n",
    "\n",
    "# Verifing Reviews Table Records\n",
    "verification_of_tablerecord(\"Reviews\",len(reviews_df))"
   ]
  },
  {
   "cell_type": "code",
   "execution_count": null,
   "id": "e49e85b9",
   "metadata": {},
   "outputs": [],
   "source": []
  }
 ],
 "metadata": {
  "kernelspec": {
   "display_name": "Python 3 (ipykernel)",
   "language": "python",
   "name": "python3"
  },
  "language_info": {
   "codemirror_mode": {
    "name": "ipython",
    "version": 3
   },
   "file_extension": ".py",
   "mimetype": "text/x-python",
   "name": "python",
   "nbconvert_exporter": "python",
   "pygments_lexer": "ipython3",
   "version": "3.11.4"
  }
 },
 "nbformat": 4,
 "nbformat_minor": 5
}
